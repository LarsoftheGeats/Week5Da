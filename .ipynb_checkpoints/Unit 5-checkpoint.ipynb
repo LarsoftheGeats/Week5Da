{
 "cells": [
  {
   "cell_type": "markdown",
   "id": "47a4b426",
   "metadata": {},
   "source": [
    "## 1 Explain 3 principles of data communication\n",
    "\n",
    "The Main goal is to Clearly and effectively communicate information\n",
    "\n",
    "Clear - Uncluttered concise, you can see the point that the graph maker is trying to make, and see how independent variables line up with dependent ones, or two graphs move in tandem.  \n",
    "\n",
    "Easy to Understand, at a glance you can tell categories, and see what is what.  Good contrasts for different plots on the same graph, good labeling, avoid giving a distorted picture to the viewer.\n",
    "\n",
    "Tells a Story, your data shows something happening that's important for the viewer to understand, so for instance a line plot of sales per quarter would highlight a sharp dip and include a % change as a sidebar for the viewer.  Anything where the presentation of the data makes a point for the person looking at the graph.    \n"
   ]
  },
  {
   "cell_type": "markdown",
   "id": "21f1ad0f",
   "metadata": {},
   "source": [
    "# Notes\n",
    "Don't Distort the Data.  For instance don't distort axes or scales to make something small seem larger than it is.  \n",
    "Encourage the Eye to compare different Data.  If you think there's a relationship between two pieces of data plot the lines together so you their motion in relation to each other is clear.\n",
    "\n"
   ]
  },
  {
   "cell_type": "markdown",
   "id": "80bf51cc",
   "metadata": {},
   "source": [
    "# Notes\n",
    "## Basic Principles\n",
    "## Clear, \n",
    "## Easy to understand, \n",
    "## Has an impact onthe viewer, tells a story\n",
    "### Specific Principles\n",
    "### Show the data, \n",
    "### think about substance not methods,\n",
    "### don't distort,\n",
    "### present many numbers in a small space. \n",
    "### Make Large Datasets coherent,\n",
    "### Encourage the Eye to comprre different pieces of data.  \n",
    "### Reveal the data t several levels of detail, from a broad overview to the fine structure, \n",
    "### serve a reasonably clear purposes:  description exploration tabulation or decoration.  \n",
    "### Be closely integrated with the statistical and verbal descriptions of a data set.  "
   ]
  },
  {
   "cell_type": "markdown",
   "id": "b33e3b5c",
   "metadata": {},
   "source": [
    "## 2 Basic Principles of Visual Perception\n",
    "\n",
    "### Order\n",
    "The order in which items are preceived, in text this follows standard practices, but in viewing graphs it can be random and sporadic, so each element of the graph needs to be comprehensible on its own to help a viewer flow from first viewing to complete understanding.  Also in general people don't remember every item they see, only the first 2 or 3 items, so trying to draw the eye to the important information through color choice helps your message last longer in the mind.  \n",
    "### Hierarchy\n",
    "The eye tends to be drawn towards brighter colors, so you can highlight specific items in such a way that every element fits into part of a story, for instance adding a vertical line in a graph draws the attention to each side of the graph, so pay attention to how the line attracts attention, and make sure it fits in with the context of the story you want your data to   tell. \n",
    "### Clarity \n",
    "If there's a part of the data you want to emphasize use design elements to bring attention to it.  Like highlighting, or text on the graph.  \n",
    "\n",
    "### Relationships\n",
    "Humans tend to tell stories that relate things which are together on a graph.  We like to form patterns and do so naturally.  Presenting data together on a graph will naturally lead viewers to connect them in their heads, don't present false relationships.\n",
    "### Convention\n",
    "We have some  expectations on graph layout, and color palette, for instance we'd expect similar items to have similar colors on a legend.  This groups things in our mind.  Also some graphs are useful for conveying time information, but poor for conveying % information or bin-like informtion.  Violating those expectations can lead to mis-understanding, or rejecting the conclusions of the graph.  \n",
    "\n",
    "Understanding these items can be used to highlight the important data you want to convey, and help you avoid conveying things you don't want to convey.  \n"
   ]
  },
  {
   "cell_type": "markdown",
   "id": "e2e22227",
   "metadata": {},
   "source": [
    "## Gestalt Theory principles\n",
    "### 1.  Similarity  \n",
    "    We tend to group similar items in our minds, whether on shape, or color.  Use this to group items in the viewers mind.\n",
    "### 2.  Continuity\n",
    "    When viewing lines we want to follow the trend that we see in the line.  \n",
    "### 3.  Closure\n",
    "    Your brain will fill in missing parts, simple form our brains will follow a simple shape to fill in the information.  \n",
    "### 4.  Proximity\n",
    "    Our brains will lump things that are close together into the same category\n",
    "### 5.  Figure/Ground\n",
    "    Foreground background, our brain prefers the foreground, \n",
    "### 6.  Symmetry & Order\n",
    "    Your brain will take any visual image in the simplest shape possible.  "
   ]
  },
  {
   "cell_type": "markdown",
   "id": "50c7d1bb",
   "metadata": {},
   "source": [
    "## 3.  Choose Appropriate Graphs for the Data"
   ]
  },
  {
   "cell_type": "markdown",
   "id": "da445cdc",
   "metadata": {},
   "source": [
    "## Comparison between values\n",
    "\n",
    "Bar Chart, Our brains are good at quickly estimating comparative heights and what that means about values of longer or shorter bars.  "
   ]
  },
  {
   "cell_type": "markdown",
   "id": "22ada85d",
   "metadata": {},
   "source": [
    "\n",
    "## Comparison to the Whole\n",
    "\n",
    "Stacked Bar Chart this is good when you don't have segments that are  too small, and you have a limited number of segments  \n",
    "\n",
    "or a Treemap Column  If you have lots of data, or very small segments, the 2-d nature of the tree map keeps the item from being swallowed.  \n",
    "\n",
    "These are  both good tools  because they show the size of a rectangle as a proportion of a bigger rectangle, letting you form comparisons in your mind more easily.  And our visual system is pretty good about making that comparison naturally, so complex relationships can be conveyed sparsely.  But my default is a bar chart, I generally prefer a pie chart to treemap, but familiarity might have bred contempt in everyone when it comes to bar charts.  "
   ]
  },
  {
   "cell_type": "markdown",
   "id": "2bc8a964",
   "metadata": {},
   "source": []
  },
  {
   "cell_type": "markdown",
   "id": "06da4f18",
   "metadata": {},
   "source": []
  },
  {
   "cell_type": "markdown",
   "id": "1b4d9339",
   "metadata": {},
   "source": []
  },
  {
   "cell_type": "markdown",
   "id": "ce6635ec",
   "metadata": {},
   "source": []
  },
  {
   "cell_type": "markdown",
   "id": "3b1524c8",
   "metadata": {},
   "source": []
  },
  {
   "cell_type": "markdown",
   "id": "718cb310",
   "metadata": {},
   "source": [
    "\n",
    "\n",
    "\n",
    "## Change over time\n",
    "Line Chart good for sparse plots my preferred plot, the elements of continuity mean that inflection points stand out naturally.\n",
    "\n",
    "Area. generally less used, but the best example I have is when continuity would lead you to think lines were crossing, so you can use the hashing to clarify this.  Again, generally bad because it fills up white space and clutters the graph.\n",
    "\n",
    "Column not so good for multiple charts, a line chart is generally the best option\n",
    "\n",
    "Slope: really only good for multiple char\n",
    "\n",
    "Ranking data\n",
    "\n",
    "Correlation\n",
    "\n",
    "Geographical charts\n",
    "\n",
    "Measuring a target\n",
    "\n",
    "Shoing Outliers"
   ]
  }
 ],
 "metadata": {
  "kernelspec": {
   "display_name": "Python 3 (ipykernel)",
   "language": "python",
   "name": "python3"
  },
  "language_info": {
   "codemirror_mode": {
    "name": "ipython",
    "version": 3
   },
   "file_extension": ".py",
   "mimetype": "text/x-python",
   "name": "python",
   "nbconvert_exporter": "python",
   "pygments_lexer": "ipython3",
   "version": "3.9.13"
  }
 },
 "nbformat": 4,
 "nbformat_minor": 5
}
